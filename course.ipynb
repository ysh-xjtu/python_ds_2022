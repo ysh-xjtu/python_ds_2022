{
 "cells": [
  {
   "cell_type": "markdown",
   "source": [
    "### 随机选择一个学生完成本周教学内容的总结"
   ],
   "metadata": {
    "collapsed": false
   }
  },
  {
   "cell_type": "code",
   "execution_count": 1,
   "metadata": {
    "collapsed": true
   },
   "outputs": [],
   "source": [
    "import tkinter as tk\n",
    "from tkinter import ttk\n",
    "import random\n",
    "class StudentFrame(tk.Frame):\n",
    "    def __init__(self,parent):\n",
    "        super().__init__(parent)\n",
    "        self.students_no = ['1000', '1002', '1004', '2345']\n",
    "        self.students = {\"1000\":\"zhangsan\", \"1002\":\"lisi\", \"1004\":\"wangwu\", \"2345\":\"yuan\"}\n",
    "        self.chooseIndex = 0\n",
    "        self.start_btn = ttk.Button(self, text=\"开始\", command=self._on_startBtn)\n",
    "        self.end_btn = ttk.Button(self, text=\"结束\", command=self._on_endBtn)\n",
    "        self.canvas = tk.Canvas(self, bg='yellow')\n",
    "        # opts = {'ipadx':50, 'fill':tk.BOTH}\n",
    "        # self.canvas.pack(side=tk.BOTTOM, **opts)\n",
    "        # self.end_btn.pack(side=tk.RIGHT, **opts)\n",
    "        # self.start_btn.pack(sid=tk.RIGHT, fill=tk.BOTH)\n",
    "        self.start_btn.grid(row=0, column=0, sticky='wens')\n",
    "        self.end_btn.grid(row=0, column=1, sticky='wens')\n",
    "        self.canvas.grid(row=1, column=0, columnspan=2, sticky='wens')\n",
    "        self.after(200)\n",
    "        self.canvas.update()\n",
    "        self.x = 200\n",
    "        self.y = self.canvas.winfo_height()//2 - 20\n",
    "        self.stop = False\n",
    "\n",
    "    def _on_startBtn(self):\n",
    "        self._random_display()\n",
    "\n",
    "    def _random_display(self):\n",
    "        if not self.stop:\n",
    "            self.chooseIndex = random.randint(0, len(self.students_no) - 1)\n",
    "            self.canvas.delete('all')\n",
    "            self.canvas.create_text(self.x, self.y, text=self.students[self.students_no[self.chooseIndex]],\n",
    "                                    font=(\"TkDefaultFont\", 48))\n",
    "            self.after(30, func=self._random_display)\n",
    "        self.stop = False\n",
    "\n",
    "    def _on_endBtn(self):\n",
    "        self.stop = True"
   ]
  },
  {
   "cell_type": "code",
   "execution_count": 2,
   "outputs": [],
   "source": [
    "myApp = tk.Tk()\n",
    "myApp.title(\"Choose Student\")\n",
    "myApp.resizable(width=False, height=False)\n",
    "StudentFrame(myApp).grid(sticky=(tk.E+tk.W+tk.S+tk.N))\n",
    "myApp.columnconfigure(0, weight=1)\n",
    "myApp.mainloop()"
   ],
   "metadata": {
    "collapsed": false,
    "pycharm": {
     "name": "#%%\n"
    }
   }
  },
  {
   "cell_type": "markdown",
   "source": [
    "### 递归画一棵树"
   ],
   "metadata": {
    "collapsed": false
   }
  },
  {
   "cell_type": "code",
   "execution_count": null,
   "outputs": [],
   "source": [],
   "metadata": {
    "collapsed": false,
    "pycharm": {
     "name": "#%%\n"
    }
   }
  }
 ],
 "metadata": {
  "kernelspec": {
   "display_name": "Python 3",
   "language": "python",
   "name": "python3"
  },
  "language_info": {
   "codemirror_mode": {
    "name": "ipython",
    "version": 2
   },
   "file_extension": ".py",
   "mimetype": "text/x-python",
   "name": "python",
   "nbconvert_exporter": "python",
   "pygments_lexer": "ipython2",
   "version": "2.7.6"
  }
 },
 "nbformat": 4,
 "nbformat_minor": 0
}