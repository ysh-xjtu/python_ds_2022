{
 "cells": [
  {
   "cell_type": "markdown",
   "metadata": {
    "collapsed": true,
    "pycharm": {
     "name": "#%% md\n"
    }
   },
   "source": [
    "## 配合课件math中的相关知识"
   ]
  },
  {
   "cell_type": "markdown",
   "source": [
    "### 常用数学术语-Python相对应的函数"
   ],
   "metadata": {
    "collapsed": false
   }
  },
  {
   "cell_type": "markdown",
   "source": [
    "1. 阶乘函数"
   ],
   "metadata": {
    "collapsed": false
   }
  },
  {
   "cell_type": "code",
   "execution_count": 1,
   "outputs": [
    {
     "name": "stdout",
     "output_type": "stream",
     "text": [
      "3628800\n",
      "3598695.6187410373\n"
     ]
    }
   ],
   "source": [
    "import math\n",
    "n = 10\n",
    "print(math.perm(n))\n",
    "stirling_formula = math.pow(2*math.pi*n, 0.5)*((n/math.e)**n)\n",
    "print(stirling_formula)"
   ],
   "metadata": {
    "collapsed": false,
    "pycharm": {
     "name": "#%%\n"
    }
   }
  },
  {
   "cell_type": "markdown",
   "source": [
    "2. 排列"
   ],
   "metadata": {
    "collapsed": false
   }
  },
  {
   "cell_type": "code",
   "execution_count": 2,
   "outputs": [
    {
     "data": {
      "text/plain": "90"
     },
     "execution_count": 2,
     "metadata": {},
     "output_type": "execute_result"
    }
   ],
   "source": [
    "k = 2\n",
    "# Number of ways to choose k items from n items without repetition and with order.\n",
    "# Evaluates to n! / (n - k)! when k <= n and evaluates to zero when k > n.\n",
    "# If k is not specified or is None, then k defaults to n and the function returns n!.\n",
    "math.perm(n, k)"
   ],
   "metadata": {
    "collapsed": false,
    "pycharm": {
     "name": "#%%\n"
    }
   }
  },
  {
   "cell_type": "markdown",
   "source": [
    "3. 取上整和取下整"
   ],
   "metadata": {
    "collapsed": false
   }
  },
  {
   "cell_type": "code",
   "execution_count": 3,
   "outputs": [
    {
     "name": "stdout",
     "output_type": "stream",
     "text": [
      "math.floor(3.4) = 3\n",
      "math.ceil(3.4) = 4\n"
     ]
    }
   ],
   "source": [
    "decimal = 3.4\n",
    "print(f\"math.floor({decimal}) = {math.floor(decimal)}\")\n",
    "print(f\"math.ceil({decimal}) = {math.ceil(decimal)}\")"
   ],
   "metadata": {
    "collapsed": false,
    "pycharm": {
     "name": "#%%\n"
    }
   }
  },
  {
   "cell_type": "markdown",
   "source": [
    "4. 取模操作符"
   ],
   "metadata": {
    "collapsed": false
   }
  },
  {
   "cell_type": "code",
   "execution_count": 4,
   "outputs": [
    {
     "name": "stdout",
     "output_type": "stream",
     "text": [
      "9%4 = 1\n",
      "9%-4 = -3\n",
      "-9%4 = 3\n",
      "-9%-4 = -1\n"
     ]
    }
   ],
   "source": [
    "divident = 9\n",
    "divisor = 4\n",
    "# n % m 转换成公式：n - m*ceil(n/m)\n",
    "# 求余的结果一定在0到m-1之间\n",
    "print(f\"{divident}%{divisor} = {divident % divisor}\")\n",
    "print(f\"{divident}%{-divisor} = {divident % -divisor}\")\n",
    "print(f\"{-divident}%{divisor} = {-divident % divisor}\")\n",
    "print(f\"{-divident}%{-divisor} = {-divident % -divisor}\")\n",
    "# 在算法分析中只使用求余运算符两侧是正数类型的运算"
   ],
   "metadata": {
    "collapsed": false,
    "pycharm": {
     "name": "#%%\n"
    }
   }
  },
  {
   "cell_type": "markdown",
   "source": [
    "### 数学归纳法"
   ],
   "metadata": {
    "collapsed": false
   }
  },
  {
   "cell_type": "markdown",
   "source": [
    "1. 证明对任意正整数n，下面的循环语句的迭代次数是floor(logn)\n",
    "` while n>1: n = n//2 `"
   ],
   "metadata": {
    "collapsed": false
   }
  },
  {
   "cell_type": "code",
   "execution_count": 5,
   "outputs": [],
   "source": [
    "def iterationNumbers(n):\n",
    "    if n <= 0:\n",
    "        return 0\n",
    "    number = 0\n",
    "    while n>1:\n",
    "        number += 1\n",
    "        n = n // 2\n",
    "    return number\n",
    "\n",
    "for i in range(1, 1000):\n",
    "    number1 = iterationNumbers(i)\n",
    "    number2 = math.floor(math.log(i, 2))\n",
    "    if number1 != number2:\n",
    "        print(\"error!\")"
   ],
   "metadata": {
    "collapsed": false,
    "pycharm": {
     "name": "#%%\n"
    }
   }
  },
  {
   "cell_type": "markdown",
   "source": [
    "### 递归"
   ],
   "metadata": {
    "collapsed": false
   }
  },
  {
   "cell_type": "markdown",
   "source": [
    "1. 基准情形很重要，是递归能够结束的条件，但并不是说有基准情形递归就一定能结束，还必须要让递归不断朝着基准情形推进。"
   ],
   "metadata": {
    "collapsed": false
   }
  },
  {
   "cell_type": "code",
   "execution_count": null,
   "outputs": [],
   "source": [
    "def bad(n):\n",
    "    if n == 0:\n",
    "        return n\n",
    "    else:\n",
    "        return bad(n//3 + 1) + n - 1\n",
    "bad(6)"
   ],
   "metadata": {
    "collapsed": false,
    "pycharm": {
     "name": "#%%\n",
     "is_executing": true
    }
   }
  },
  {
   "cell_type": "markdown",
   "source": [
    "2. 设计法则是递归正确运行的保障。"
   ],
   "metadata": {
    "collapsed": false
   }
  },
  {
   "cell_type": "code",
   "execution_count": 1,
   "outputs": [
    {
     "name": "stdout",
     "output_type": "stream",
     "text": [
      "111\n"
     ]
    }
   ],
   "source": [
    "# 使用递归的方式将一个十进制整数转换成二进制的字符串形式\n",
    "def toBinary(n):\n",
    "    if n<0:\n",
    "        return \"\"\n",
    "    if n==0 or n==1:\n",
    "        return str(n)\n",
    "    else:\n",
    "        result = toBinary(n//2)\n",
    "        result = result + str(n%2)\n",
    "        return result\n",
    "\n",
    "print(toBinary(7))"
   ],
   "metadata": {
    "collapsed": false,
    "pycharm": {
     "name": "#%%\n"
    }
   }
  },
  {
   "cell_type": "markdown",
   "source": [
    "3. 合成效益法则是递归函数运行效率的保障。"
   ],
   "metadata": {
    "collapsed": false
   }
  },
  {
   "cell_type": "code",
   "execution_count": 2,
   "outputs": [
    {
     "name": "stdout",
     "output_type": "stream",
     "text": [
      "832040\telapsed time: 541268000 ns\n",
      "832040\telapsed time: 1000100 ns\n"
     ]
    }
   ],
   "source": [
    "import time\n",
    "def fibonacci(n):\n",
    "    if n==1 or n==2:\n",
    "        return 1\n",
    "    return fibonacci(n-1) + fibonacci(n-2)\n",
    "def fibonacci_reduction(n):\n",
    "    if n==1 or n==2:\n",
    "        return 1\n",
    "    prev, next = 1, 1\n",
    "    for i in range(3, n+1):\n",
    "        prev, next = next, prev+next\n",
    "    return next\n",
    "start = time.time_ns()\n",
    "fib_n = 30\n",
    "print(fibonacci(fib_n),end=\"\\t\")\n",
    "elapsed = time.time_ns() - start\n",
    "\n",
    "print(f\"elapsed time: {elapsed} ns\")\n",
    "start = time.time_ns()\n",
    "print(fibonacci_reduction(fib_n), end=\"\\t\")\n",
    "elapsed = time.time_ns() - start\n",
    "print(f\"elapsed time: {elapsed} ns\")"
   ],
   "metadata": {
    "collapsed": false,
    "pycharm": {
     "name": "#%%\n"
    }
   }
  },
  {
   "cell_type": "code",
   "execution_count": null,
   "outputs": [],
   "source": [],
   "metadata": {
    "collapsed": false,
    "pycharm": {
     "name": "#%%\n"
    }
   }
  }
 ],
 "metadata": {
  "kernelspec": {
   "display_name": "Python 3",
   "language": "python",
   "name": "python3"
  },
  "language_info": {
   "codemirror_mode": {
    "name": "ipython",
    "version": 2
   },
   "file_extension": ".py",
   "mimetype": "text/x-python",
   "name": "python",
   "nbconvert_exporter": "python",
   "pygments_lexer": "ipython2",
   "version": "2.7.6"
  }
 },
 "nbformat": 4,
 "nbformat_minor": 0
}